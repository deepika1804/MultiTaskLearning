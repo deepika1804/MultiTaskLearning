{
 "cells": [
  {
   "cell_type": "code",
   "execution_count": 3,
   "metadata": {},
   "outputs": [],
   "source": [
    "import keras.backend as K\n",
    "from keras.models import Sequential\n",
    "from keras.layers import Dense, Dropout, Flatten\n",
    "from keras.layers import Conv2D, MaxPooling2D, Activation\n",
    "\n",
    "\n",
    "def NiNBlock(kernel, mlps, strides):\n",
    "    def inner(x):\n",
    "        l = Conv2D(mlps[0], kernel, strides=strides, padding='same')(x)\n",
    "        l = Activation('relu')(l)\n",
    "        for size in mlps[1:]:\n",
    "            l = Conv2D(size, 1, strides=[1,1])(l)\n",
    "            l = Activation('relu')(l)\n",
    "        return l\n",
    "    return inner\n",
    "\n",
    "\n",
    "def get_model(img_rows, img_cols):\n",
    "    img = Input(shape=(img_rows, img_cols, 1))\n",
    "    l1 = NiNBlock(7, [96, 96, 96], [2,2])(img)\n",
    "    l1 = MaxPooling2D(pool_size=(3, 3), strides=(2, 2))(l1)\n",
    "#     l1 = Dropout(0.7)(l1)\n",
    "\n",
    "    l2 = NiNBlock(5, [256, 256, 256], [2,2])(l1)\n",
    "    l2 = MaxPooling2D(pool_size=(3, 3), strides=(2, 2))(l2)\n",
    "#     l2 = Dropout(0.7)(l2)\n",
    "\n",
    "    l3 = NiNBlock(3, [512, 512, 512], [1,1])(l2)\n",
    "\n",
    "    l4 = NiNBlock(3, [1024, 1024, 512,384], [1,1])(l3)\n",
    "    l5 = NiNBlock(3, [512, 512, 512], [2,2])(l4)\n",
    "    l5 = MaxPooling2D(pool_size=(3, 3), strides=(2, 2))(l5)\n",
    "    l6 = Dense(1024)(l5)\n",
    "    l7 = Dense(1024)(l6)\n",
    "    #add dense according to attribute layer. (for each attribute 1 or 0)\n",
    "    l8 = Dense(1)(l7)\n",
    "    l9 = Activation('softmax')(l8) # or sigmoid\n",
    "\n",
    "    model = Model(inputs=img, outputs=l9)\n",
    "    return model\n",
    "\n",
    "batch_size = 256\n",
    "epochs = 10\n",
    "model = get_model(28,28)\n",
    "ada = keras.optimizer.Adam(lr = 0.0001,decay=0.0005)\n",
    "model.compile(loss='binary_crossentropy',optimizer=ada,metrics=['accuracy'])\n",
    "\n",
    "model.fit(x_train, y_train,batch_size=batch_size,epochs=epochs,verbose=1,validation_data=(x_test, y_test))\n",
    "\n",
    "score = model.evaluate(x_test, y_test, verbose=0) "
   ]
  },
  {
   "cell_type": "code",
   "execution_count": null,
   "metadata": {},
   "outputs": [],
   "source": []
  }
 ],
 "metadata": {
  "kernelspec": {
   "display_name": "Python 3",
   "language": "python",
   "name": "python3"
  },
  "language_info": {
   "codemirror_mode": {
    "name": "ipython",
    "version": 3
   },
   "file_extension": ".py",
   "mimetype": "text/x-python",
   "name": "python",
   "nbconvert_exporter": "python",
   "pygments_lexer": "ipython3",
   "version": "3.6.4"
  }
 },
 "nbformat": 4,
 "nbformat_minor": 2
}
